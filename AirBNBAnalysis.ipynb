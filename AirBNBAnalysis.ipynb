{
 "cells": [
  {
   "cell_type": "markdown",
   "id": "c70dccd8-5291-4086-9843-51185abed07e",
   "metadata": {},
   "source": [
    "## New York AirBNB Exploratory Analysis "
   ]
  },
  {
   "cell_type": "markdown",
   "id": "78da9b19-c024-499a-bc5c-4a580d17f310",
   "metadata": {},
   "source": [
    "### Importing Packages and preparing data"
   ]
  },
  {
   "cell_type": "code",
   "execution_count": 1,
   "id": "054f1837-2da2-47d4-9a45-181161b3251d",
   "metadata": {},
   "outputs": [],
   "source": [
    "## Data source: https://insideairbnb.com/get-the-data/"
   ]
  },
  {
   "cell_type": "code",
   "execution_count": 2,
   "id": "aa91ddad-3b8d-412d-8dd8-766e3fc62cd9",
   "metadata": {},
   "outputs": [
    {
     "name": "stdout",
     "output_type": "stream",
     "text": [
      "/Users/smarr/nba-pandas\n"
     ]
    }
   ],
   "source": [
    "import os\n",
    "#Checking for current directory and switching to project folder\n",
    "current_directory = os.getcwd()\n",
    "print(current_directory)\n",
    "os.chdir('/Users/smarr/Documents/Data Sets/AirBNBAnalysis')"
   ]
  },
  {
   "cell_type": "code",
   "execution_count": 3,
   "id": "b181720f-336e-4371-b289-8e484735aa43",
   "metadata": {},
   "outputs": [
    {
     "data": {
      "text/plain": [
       "'/Users/smarr/Documents/Data Sets/AirBNBAnalysis'"
      ]
     },
     "execution_count": 3,
     "metadata": {},
     "output_type": "execute_result"
    }
   ],
   "source": [
    "# Verifying Directory was switched\n",
    "os.getcwd()"
   ]
  },
  {
   "cell_type": "code",
   "execution_count": 4,
   "id": "b89c45fa-4510-404d-ac47-bbdc9ebfe3b7",
   "metadata": {},
   "outputs": [],
   "source": [
    "import pandas as pd"
   ]
  },
  {
   "cell_type": "code",
   "execution_count": 5,
   "id": "61452ebd-c8bb-4f12-81c4-49584cdca8e1",
   "metadata": {},
   "outputs": [
    {
     "name": "stderr",
     "output_type": "stream",
     "text": [
      "<>:3: SyntaxWarning: invalid escape sequence '\\$'\n",
      "<>:3: SyntaxWarning: invalid escape sequence '\\$'\n",
      "/var/folders/yw/pqk5wsp91vlcbh2lpn3gp63w0000gn/T/ipykernel_74590/818574451.py:3: SyntaxWarning: invalid escape sequence '\\$'\n",
      "  listings['price']= listings['price'].replace('[\\$,]', '', regex=True).astype(float)\n"
     ]
    }
   ],
   "source": [
    "## Importing listings data and cleaning the price column to ensure successful numerical analysis\n",
    "listings = pd.read_csv('../AirBNBAnalysis/data/listings_clean.csv')\n",
    "listings['price']= listings['price'].replace('[\\$,]', '', regex=True).astype(float)\n",
    "listings.to_csv('listings_clean.csv', index=False)"
   ]
  },
  {
   "cell_type": "code",
   "execution_count": 6,
   "id": "da32e756-8cda-4f9c-b422-c259c741b4c0",
   "metadata": {},
   "outputs": [
    {
     "data": {
      "text/html": [
       "<div>\n",
       "<style scoped>\n",
       "    .dataframe tbody tr th:only-of-type {\n",
       "        vertical-align: middle;\n",
       "    }\n",
       "\n",
       "    .dataframe tbody tr th {\n",
       "        vertical-align: top;\n",
       "    }\n",
       "\n",
       "    .dataframe thead th {\n",
       "        text-align: right;\n",
       "    }\n",
       "</style>\n",
       "<table border=\"1\" class=\"dataframe\">\n",
       "  <thead>\n",
       "    <tr style=\"text-align: right;\">\n",
       "      <th></th>\n",
       "      <th>id</th>\n",
       "      <th>listing_url</th>\n",
       "      <th>scrape_id</th>\n",
       "      <th>last_scraped</th>\n",
       "      <th>source</th>\n",
       "      <th>name</th>\n",
       "      <th>description</th>\n",
       "      <th>neighborhood_overview</th>\n",
       "      <th>picture_url</th>\n",
       "      <th>host_id</th>\n",
       "      <th>...</th>\n",
       "      <th>review_scores_communication</th>\n",
       "      <th>review_scores_location</th>\n",
       "      <th>review_scores_value</th>\n",
       "      <th>license</th>\n",
       "      <th>instant_bookable</th>\n",
       "      <th>calculated_host_listings_count</th>\n",
       "      <th>calculated_host_listings_count_entire_homes</th>\n",
       "      <th>calculated_host_listings_count_private_rooms</th>\n",
       "      <th>calculated_host_listings_count_shared_rooms</th>\n",
       "      <th>reviews_per_month</th>\n",
       "    </tr>\n",
       "  </thead>\n",
       "  <tbody>\n",
       "    <tr>\n",
       "      <th>0</th>\n",
       "      <td>36121</td>\n",
       "      <td>https://www.airbnb.com/rooms/36121</td>\n",
       "      <td>20250301213336</td>\n",
       "      <td>2025-03-03</td>\n",
       "      <td>city scrape</td>\n",
       "      <td>Lg Rm in Historic Prospect Heights</td>\n",
       "      <td>Cozy space share in the heart of a great neigh...</td>\n",
       "      <td>Full of tree-lined streets and beautiful brown...</td>\n",
       "      <td>https://a0.muscache.com/pictures/8776354/35b32...</td>\n",
       "      <td>62165</td>\n",
       "      <td>...</td>\n",
       "      <td>5.00</td>\n",
       "      <td>5.00</td>\n",
       "      <td>5.00</td>\n",
       "      <td>NaN</td>\n",
       "      <td>f</td>\n",
       "      <td>1</td>\n",
       "      <td>0</td>\n",
       "      <td>1</td>\n",
       "      <td>0</td>\n",
       "      <td>0.05</td>\n",
       "    </tr>\n",
       "    <tr>\n",
       "      <th>1</th>\n",
       "      <td>36647</td>\n",
       "      <td>https://www.airbnb.com/rooms/36647</td>\n",
       "      <td>20250301213336</td>\n",
       "      <td>2025-03-03</td>\n",
       "      <td>city scrape</td>\n",
       "      <td>1 Bedroom &amp; your own Bathroom, Elevator Apartment</td>\n",
       "      <td>Private bedroom with your own bathroom in a 2 ...</td>\n",
       "      <td>Manhattan, SE corner of 2nd Ave/ E. 110th street</td>\n",
       "      <td>https://a0.muscache.com/pictures/miso/Hosting-...</td>\n",
       "      <td>157798</td>\n",
       "      <td>...</td>\n",
       "      <td>4.90</td>\n",
       "      <td>4.38</td>\n",
       "      <td>4.71</td>\n",
       "      <td>NaN</td>\n",
       "      <td>f</td>\n",
       "      <td>1</td>\n",
       "      <td>0</td>\n",
       "      <td>1</td>\n",
       "      <td>0</td>\n",
       "      <td>0.58</td>\n",
       "    </tr>\n",
       "    <tr>\n",
       "      <th>2</th>\n",
       "      <td>38663</td>\n",
       "      <td>https://www.airbnb.com/rooms/38663</td>\n",
       "      <td>20250301213336</td>\n",
       "      <td>2025-03-02</td>\n",
       "      <td>city scrape</td>\n",
       "      <td>Luxury Brownstone in Boerum Hill</td>\n",
       "      <td>Beautiful, large home in great hipster neighbo...</td>\n",
       "      <td>diverse, lively, hip, cool: loaded with restau...</td>\n",
       "      <td>https://a0.muscache.com/pictures/miso/Hosting-...</td>\n",
       "      <td>165789</td>\n",
       "      <td>...</td>\n",
       "      <td>4.88</td>\n",
       "      <td>4.86</td>\n",
       "      <td>4.62</td>\n",
       "      <td>OSE-STRREG-0001784</td>\n",
       "      <td>f</td>\n",
       "      <td>1</td>\n",
       "      <td>0</td>\n",
       "      <td>1</td>\n",
       "      <td>0</td>\n",
       "      <td>0.28</td>\n",
       "    </tr>\n",
       "    <tr>\n",
       "      <th>3</th>\n",
       "      <td>38833</td>\n",
       "      <td>https://www.airbnb.com/rooms/38833</td>\n",
       "      <td>20250301213336</td>\n",
       "      <td>2025-03-03</td>\n",
       "      <td>city scrape</td>\n",
       "      <td>Spectacular West Harlem Garden Apt</td>\n",
       "      <td>This is a very large and unique  space. An inc...</td>\n",
       "      <td>West Harlem is now packed with great restauran...</td>\n",
       "      <td>https://a0.muscache.com/pictures/7554f9e5-4ab0...</td>\n",
       "      <td>166532</td>\n",
       "      <td>...</td>\n",
       "      <td>4.96</td>\n",
       "      <td>4.79</td>\n",
       "      <td>4.82</td>\n",
       "      <td>OSE-STRREG-0000476</td>\n",
       "      <td>f</td>\n",
       "      <td>1</td>\n",
       "      <td>1</td>\n",
       "      <td>0</td>\n",
       "      <td>0</td>\n",
       "      <td>1.36</td>\n",
       "    </tr>\n",
       "    <tr>\n",
       "      <th>4</th>\n",
       "      <td>39282</td>\n",
       "      <td>https://www.airbnb.com/rooms/39282</td>\n",
       "      <td>20250301213336</td>\n",
       "      <td>2025-03-02</td>\n",
       "      <td>city scrape</td>\n",
       "      <td>“Work-from-home” from OUR home.</td>\n",
       "      <td>*Monthly Discount will automatically apply &lt;br...</td>\n",
       "      <td>THE NEIGHBORHOOD:&lt;br /&gt;Our apartment is locate...</td>\n",
       "      <td>https://a0.muscache.com/pictures/ef8f43ad-d967...</td>\n",
       "      <td>168525</td>\n",
       "      <td>...</td>\n",
       "      <td>4.88</td>\n",
       "      <td>4.85</td>\n",
       "      <td>4.78</td>\n",
       "      <td>OSE-STRREG-0001150</td>\n",
       "      <td>f</td>\n",
       "      <td>2</td>\n",
       "      <td>0</td>\n",
       "      <td>2</td>\n",
       "      <td>0</td>\n",
       "      <td>1.54</td>\n",
       "    </tr>\n",
       "  </tbody>\n",
       "</table>\n",
       "<p>5 rows × 79 columns</p>\n",
       "</div>"
      ],
      "text/plain": [
       "      id                         listing_url       scrape_id last_scraped  \\\n",
       "0  36121  https://www.airbnb.com/rooms/36121  20250301213336   2025-03-03   \n",
       "1  36647  https://www.airbnb.com/rooms/36647  20250301213336   2025-03-03   \n",
       "2  38663  https://www.airbnb.com/rooms/38663  20250301213336   2025-03-02   \n",
       "3  38833  https://www.airbnb.com/rooms/38833  20250301213336   2025-03-03   \n",
       "4  39282  https://www.airbnb.com/rooms/39282  20250301213336   2025-03-02   \n",
       "\n",
       "        source                                               name  \\\n",
       "0  city scrape                 Lg Rm in Historic Prospect Heights   \n",
       "1  city scrape  1 Bedroom & your own Bathroom, Elevator Apartment   \n",
       "2  city scrape                   Luxury Brownstone in Boerum Hill   \n",
       "3  city scrape                 Spectacular West Harlem Garden Apt   \n",
       "4  city scrape                    “Work-from-home” from OUR home.   \n",
       "\n",
       "                                         description  \\\n",
       "0  Cozy space share in the heart of a great neigh...   \n",
       "1  Private bedroom with your own bathroom in a 2 ...   \n",
       "2  Beautiful, large home in great hipster neighbo...   \n",
       "3  This is a very large and unique  space. An inc...   \n",
       "4  *Monthly Discount will automatically apply <br...   \n",
       "\n",
       "                               neighborhood_overview  \\\n",
       "0  Full of tree-lined streets and beautiful brown...   \n",
       "1   Manhattan, SE corner of 2nd Ave/ E. 110th street   \n",
       "2  diverse, lively, hip, cool: loaded with restau...   \n",
       "3  West Harlem is now packed with great restauran...   \n",
       "4  THE NEIGHBORHOOD:<br />Our apartment is locate...   \n",
       "\n",
       "                                         picture_url  host_id  ...  \\\n",
       "0  https://a0.muscache.com/pictures/8776354/35b32...    62165  ...   \n",
       "1  https://a0.muscache.com/pictures/miso/Hosting-...   157798  ...   \n",
       "2  https://a0.muscache.com/pictures/miso/Hosting-...   165789  ...   \n",
       "3  https://a0.muscache.com/pictures/7554f9e5-4ab0...   166532  ...   \n",
       "4  https://a0.muscache.com/pictures/ef8f43ad-d967...   168525  ...   \n",
       "\n",
       "  review_scores_communication review_scores_location review_scores_value  \\\n",
       "0                        5.00                   5.00                5.00   \n",
       "1                        4.90                   4.38                4.71   \n",
       "2                        4.88                   4.86                4.62   \n",
       "3                        4.96                   4.79                4.82   \n",
       "4                        4.88                   4.85                4.78   \n",
       "\n",
       "              license instant_bookable calculated_host_listings_count  \\\n",
       "0                 NaN                f                              1   \n",
       "1                 NaN                f                              1   \n",
       "2  OSE-STRREG-0001784                f                              1   \n",
       "3  OSE-STRREG-0000476                f                              1   \n",
       "4  OSE-STRREG-0001150                f                              2   \n",
       "\n",
       "  calculated_host_listings_count_entire_homes  \\\n",
       "0                                           0   \n",
       "1                                           0   \n",
       "2                                           0   \n",
       "3                                           1   \n",
       "4                                           0   \n",
       "\n",
       "  calculated_host_listings_count_private_rooms  \\\n",
       "0                                            1   \n",
       "1                                            1   \n",
       "2                                            1   \n",
       "3                                            0   \n",
       "4                                            2   \n",
       "\n",
       "  calculated_host_listings_count_shared_rooms reviews_per_month  \n",
       "0                                           0              0.05  \n",
       "1                                           0              0.58  \n",
       "2                                           0              0.28  \n",
       "3                                           0              1.36  \n",
       "4                                           0              1.54  \n",
       "\n",
       "[5 rows x 79 columns]"
      ]
     },
     "execution_count": 6,
     "metadata": {},
     "output_type": "execute_result"
    }
   ],
   "source": [
    "# Testing\n",
    "listings.head()"
   ]
  },
  {
   "cell_type": "code",
   "execution_count": 7,
   "id": "970da9af-512f-4297-a0f7-29d11e2f7cff",
   "metadata": {},
   "outputs": [],
   "source": [
    "# Importing SQL python package to work with the SQL database, establishing connection between python and SQL\n",
    "from sqlalchemy import create_engine\n",
    "engine = create_engine('postgresql://smarr@localhost:5432/airbnb_analysis', echo=False)\n",
    "conn = engine.connect()"
   ]
  },
  {
   "cell_type": "code",
   "execution_count": 8,
   "id": "45491908-b06a-48f1-8133-07ae1dc00cb9",
   "metadata": {},
   "outputs": [
    {
     "data": {
      "text/plain": [
       "264"
      ]
     },
     "execution_count": 8,
     "metadata": {},
     "output_type": "execute_result"
    }
   ],
   "source": [
    "#Submitting our listings dataframe to SQL\n",
    "listings.to_sql('listings', engine, if_exists='replace', index=False)"
   ]
  },
  {
   "cell_type": "code",
   "execution_count": 9,
   "id": "52bf5e8b-abf5-4cc2-be58-9029bec4c40a",
   "metadata": {},
   "outputs": [
    {
     "name": "stderr",
     "output_type": "stream",
     "text": [
      "/var/folders/yw/pqk5wsp91vlcbh2lpn3gp63w0000gn/T/ipykernel_74590/3637125804.py:1: DtypeWarning: Columns (4) have mixed types. Specify dtype option on import or set low_memory=False.\n",
      "  dfCalendar = pd.read_csv('../AirBNBAnalysis/data/calendar.csv')\n"
     ]
    }
   ],
   "source": [
    "dfCalendar = pd.read_csv('../AirBNBAnalysis/data/calendar.csv')"
   ]
  },
  {
   "cell_type": "code",
   "execution_count": null,
   "id": "14741417-0af8-47fd-8f8f-b2dc8652df3a",
   "metadata": {},
   "outputs": [],
   "source": [
    "# chunk processing since this calendar file is extremely large, cleaning string into integers for successful numerical analysis\n",
    "dfCalendar = pd.read_csv('../AirBNBAnalysis/data/calendar.csv', chunksize=200000) \n",
    "for chunk in dfCalendar:\n",
    "    chunk['price'] = chunk['price'].replace(r'[\\$,]', '', regex=True).astype(float)\n",
    "    chunk.to_sql('calendar', engine, if_exists='append', index=False, method='multi')"
   ]
  },
  {
   "cell_type": "code",
   "execution_count": null,
   "id": "49bd86ab-acfe-43a6-a010-e0db2b7b241b",
   "metadata": {},
   "outputs": [],
   "source": [
    "# Testing data frame for adjusted price column\n",
    "dfCalendar"
   ]
  },
  {
   "cell_type": "code",
   "execution_count": null,
   "id": "03f778b9-7a33-42e1-8def-c447696b97d3",
   "metadata": {},
   "outputs": [],
   "source": [
    "## call engine.dispose() or ensure .close() is used on connections to prevent table lock in postgresql"
   ]
  },
  {
   "cell_type": "markdown",
   "id": "b1d3379c-036c-4ba3-8586-b132339978c4",
   "metadata": {},
   "source": [
    "### Pivot table for understanding price change over time across neighbourhoods"
   ]
  },
  {
   "cell_type": "code",
   "execution_count": null,
   "id": "d6cdc54e-5842-4203-ae53-c0cbbee1c44f",
   "metadata": {},
   "outputs": [],
   "source": [
    "df = pd.read_sql_query(\"\"\"\n",
    "    SELECT \n",
    "        TO_CHAR(c.date, 'YYYY-MM') AS month,\n",
    "        l.neighbourhood_cleansed,\n",
    "        ROUND(AVG(c.price)::numeric, 2) AS avg_price\n",
    "    FROM calendar c\n",
    "    JOIN listings l ON c.listing_id = l.id\n",
    "    WHERE c.available = 't'\n",
    "    GROUP BY TO_CHAR(c.date, 'YYYY-MM'), l.neighbourhood_cleansed\n",
    "\"\"\", conn)"
   ]
  },
  {
   "cell_type": "code",
   "execution_count": null,
   "id": "02d65503-6413-4709-84bd-591351d21d1a",
   "metadata": {},
   "outputs": [],
   "source": [
    "pivot_df = df.pivot(index='neighbourhood_cleansed', columns='month', values='avg_price')\n",
    "pivot_df.head()"
   ]
  },
  {
   "cell_type": "markdown",
   "id": "4637c2c9-15cb-49ae-9cdb-6d02373f0b0b",
   "metadata": {},
   "source": [
    "### Adding reviews csv file for sentiment analysis (Python and PostgreSQL)"
   ]
  },
  {
   "cell_type": "code",
   "execution_count": null,
   "id": "079a97bf-70c8-4dee-a6d0-86383ad061e8",
   "metadata": {},
   "outputs": [],
   "source": [
    "dfReviews = pd.read_csv(\"../AirBNBAnalysis/data/reviews.csv\", low_memory=False)"
   ]
  },
  {
   "cell_type": "code",
   "execution_count": null,
   "id": "2dc3595d-76d8-4e31-83da-81ed9e0202ac",
   "metadata": {},
   "outputs": [],
   "source": [
    "dfReviews.to_sql('reviews', engine, if_exists='replace', index=False)"
   ]
  },
  {
   "cell_type": "code",
   "execution_count": null,
   "id": "9e23d92a-519e-4b04-84cc-0e74450c6142",
   "metadata": {},
   "outputs": [],
   "source": [
    "dfReviews.head()"
   ]
  },
  {
   "cell_type": "code",
   "execution_count": null,
   "id": "38f486ea-5d4b-46e1-b443-53899b2bdfd0",
   "metadata": {},
   "outputs": [],
   "source": [
    "## Drop Null values as they will make it more difficult to do sentiment analysis\n",
    "dfReviews=dfReviews.dropna(subset=['comments'])"
   ]
  },
  {
   "cell_type": "code",
   "execution_count": null,
   "id": "f8d27492-0b84-4863-8963-f16055ead8b4",
   "metadata": {},
   "outputs": [],
   "source": [
    "## Checking length of Dataframe for verification purposes\n",
    "len(dfReviews)"
   ]
  },
  {
   "cell_type": "code",
   "execution_count": null,
   "id": "5eac7144-2133-4aa2-8cf0-481184df2a87",
   "metadata": {},
   "outputs": [],
   "source": [
    "## Make all comments lower-case for standardizing purposes\n",
    "dfReviews['comments']=dfReviews['comments'].str.lower()"
   ]
  },
  {
   "cell_type": "markdown",
   "id": "8e73dbe0-6371-4412-896f-4c67d5a1784a",
   "metadata": {},
   "source": [
    "### Sentiment Scoring"
   ]
  },
  {
   "cell_type": "code",
   "execution_count": null,
   "id": "a0383631-2816-4c4b-9c5c-90f280765605",
   "metadata": {},
   "outputs": [],
   "source": [
    "from textblob import TextBlob"
   ]
  },
  {
   "cell_type": "code",
   "execution_count": null,
   "id": "c113160a-eeeb-4a30-baab-1fffb6641553",
   "metadata": {},
   "outputs": [],
   "source": [
    "## Define Function\n",
    "def get_sentiment(text):\n",
    "    return TextBlob(text).sentiment.polarity"
   ]
  },
  {
   "cell_type": "code",
   "execution_count": null,
   "id": "5f1fd97b-dc13-4d17-be65-a153bf6153e6",
   "metadata": {},
   "outputs": [],
   "source": [
    "## Apply it to Airbnb comments\n",
    "dfReviews['Sentiment']=dfReviews['comments'].apply(get_sentiment)"
   ]
  },
  {
   "cell_type": "code",
   "execution_count": null,
   "id": "f84fb048-5bb8-420d-b441-a34ae6adaaa5",
   "metadata": {},
   "outputs": [],
   "source": [
    "dfReviews[['listing_id','Sentiment']].head()\n",
    "## Doesn't quite get us our average sentiment by listing"
   ]
  },
  {
   "cell_type": "code",
   "execution_count": null,
   "id": "8db3ddf8-4214-4249-a8ec-5cbc565ac5ac",
   "metadata": {},
   "outputs": [],
   "source": [
    "dfReviews"
   ]
  },
  {
   "cell_type": "markdown",
   "id": "b33ff378-edc1-44e5-a661-1460cf943a91",
   "metadata": {},
   "source": [
    "### Average sentiment and count by listing ID"
   ]
  },
  {
   "cell_type": "code",
   "execution_count": null,
   "id": "fc27feda-ee3d-472a-bbb6-c2367b3f6cd4",
   "metadata": {},
   "outputs": [],
   "source": [
    "sentimentAvgandCount_by_listing=dfReviews.groupby('listing_id').agg(avg_sentiment=('Sentiment','mean'),sentiment_count=('Sentiment','count')).reset_index()\n",
    "sentimentAvgandCount_by_listing"
   ]
  },
  {
   "cell_type": "code",
   "execution_count": null,
   "id": "2bf810b8-f30d-4d82-8596-7a980f173936",
   "metadata": {},
   "outputs": [],
   "source": [
    "## Merge with Listings data\n",
    "CombinedDF=listings.merge(sentimentAvgandCount_by_listing,left_on='id',right_on='listing_id')"
   ]
  },
  {
   "cell_type": "code",
   "execution_count": null,
   "id": "5b8b591e-5940-4900-9087-0b30ac2f6f34",
   "metadata": {},
   "outputs": [],
   "source": [
    "CombinedDF"
   ]
  },
  {
   "cell_type": "code",
   "execution_count": null,
   "id": "16e911ce-887f-4a39-9099-2bec2cc6b4df",
   "metadata": {},
   "outputs": [],
   "source": [
    "sentimentAvgandCount_by_listing.sort_values(by='avg_sentiment', ascending=False).head(10)\n",
    "## Want to get listings that have a sentiment count greater than 10, to get a substantive analysis"
   ]
  },
  {
   "cell_type": "code",
   "execution_count": null,
   "id": "a8402a22-ffc4-46b2-94be-6543151a9d8e",
   "metadata": {},
   "outputs": [],
   "source": [
    "sentimentAvgandCount_by_listing = sentimentAvgandCount_by_listing[sentimentAvgandCount_by_listing['sentiment_count']>10]"
   ]
  },
  {
   "cell_type": "code",
   "execution_count": null,
   "id": "4c6efc81-922c-4c4e-9dc5-8ccc73a4fb4d",
   "metadata": {},
   "outputs": [],
   "source": [
    "sentimentAvgandCount_by_listing.sort_values(by='avg_sentiment', ascending=False).head(10)\n",
    "## Listing ID is pretty abstract. I want to see the URl and the neighbourhood that each listing is in."
   ]
  },
  {
   "cell_type": "code",
   "execution_count": null,
   "id": "7952f661-cc0d-4186-91cb-954dad63152f",
   "metadata": {},
   "outputs": [],
   "source": [
    "sentimentAvgandCount_by_listingNew=sentimentAvgandCount_by_listing.merge(listings[['neighbourhood_cleansed', 'listing_url','id']], left_on = 'listing_id', right_on='id')"
   ]
  },
  {
   "cell_type": "code",
   "execution_count": null,
   "id": "1acf1bf1-a6d8-416b-be7e-b09aa548bab9",
   "metadata": {},
   "outputs": [],
   "source": [
    "## Now lets run the group by and get a better idea of the area and general quality of the listing\n",
    "sentimentAvgandCount_by_listingNew.sort_values(by='avg_sentiment', ascending=False).head(10).drop(columns=['id'], errors='ignore')"
   ]
  },
  {
   "cell_type": "markdown",
   "id": "4cd1d7e0-ba71-4207-a8b4-d40c8822b17f",
   "metadata": {},
   "source": [
    "### Average sentiment and count by neighbourhood (Additional Merge is needed)"
   ]
  },
  {
   "cell_type": "code",
   "execution_count": null,
   "id": "3440b5c4-7b2d-4ac0-a493-6d4b48cfab66",
   "metadata": {},
   "outputs": [],
   "source": [
    "CombinedDF_NeighbourhoodGroupby=dfReviews.merge(listings[['id','neighbourhood_cleansed']], left_on = 'listing_id', right_on='id')"
   ]
  },
  {
   "cell_type": "code",
   "execution_count": null,
   "id": "6c7bbbcd-72a1-4dac-90f4-0cc3b9c3728c",
   "metadata": {},
   "outputs": [],
   "source": [
    "CombinedDF_NeighbourhoodGroupby"
   ]
  },
  {
   "cell_type": "code",
   "execution_count": null,
   "id": "8916c499-c9a0-4805-93b2-9efa7c3a1ed4",
   "metadata": {},
   "outputs": [],
   "source": [
    "## Drop id_x and y values\n",
    "CombinedDF_NeighbourhoodGroupby = CombinedDF_NeighbourhoodGroupby.drop(columns=['id_x', 'id_y'], errors='ignore')"
   ]
  },
  {
   "cell_type": "code",
   "execution_count": null,
   "id": "82a3ce39-215e-4a6e-ae21-08dedc8d88bf",
   "metadata": {},
   "outputs": [],
   "source": [
    "CombinedDF_NeighbourhoodGroupby"
   ]
  },
  {
   "cell_type": "code",
   "execution_count": null,
   "id": "d1690921-7d04-4358-b33b-6370ccc29965",
   "metadata": {},
   "outputs": [],
   "source": [
    "sentimentAvgandCount_by_neighbourhood=CombinedDF_NeighbourhoodGroupby.groupby('neighbourhood_cleansed').agg(avg_sentiment=('Sentiment','mean'),sentiment_count=('Sentiment','count')).reset_index()"
   ]
  },
  {
   "cell_type": "code",
   "execution_count": null,
   "id": "4c8e4c4d-a1f4-49fd-bb1c-9bbdafc660a5",
   "metadata": {},
   "outputs": [],
   "source": [
    "sentimentAvgandCount_by_neighbourhood.sort_values(by='avg_sentiment', ascending=False).head(10)"
   ]
  }
 ],
 "metadata": {
  "kernelspec": {
   "display_name": "Python 3 (ipykernel)",
   "language": "python",
   "name": "python3"
  },
  "language_info": {
   "codemirror_mode": {
    "name": "ipython",
    "version": 3
   },
   "file_extension": ".py",
   "mimetype": "text/x-python",
   "name": "python",
   "nbconvert_exporter": "python",
   "pygments_lexer": "ipython3",
   "version": "3.13.2"
  }
 },
 "nbformat": 4,
 "nbformat_minor": 5
}
