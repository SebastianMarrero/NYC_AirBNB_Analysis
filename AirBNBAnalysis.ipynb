{
 "cells": [
  {
   "cell_type": "markdown",
   "id": "c70dccd8-5291-4086-9843-51185abed07e",
   "metadata": {},
   "source": [
    "## New York AirBNB Exploratory Analysis "
   ]
  },
  {
   "cell_type": "markdown",
   "id": "78da9b19-c024-499a-bc5c-4a580d17f310",
   "metadata": {},
   "source": [
    "### Importing Packages and preparing data"
   ]
  },
  {
   "cell_type": "code",
   "execution_count": null,
   "id": "054f1837-2da2-47d4-9a45-181161b3251d",
   "metadata": {},
   "outputs": [],
   "source": [
    "## Data source: https://insideairbnb.com/get-the-data/"
   ]
  },
  {
   "cell_type": "code",
   "execution_count": null,
   "id": "aa91ddad-3b8d-412d-8dd8-766e3fc62cd9",
   "metadata": {},
   "outputs": [],
   "source": [
    "import os\n",
    "#Checking for current directory and switching to project folder\n",
    "current_directory = os.getcwd()\n",
    "print(current_directory)\n",
    "os.chdir('/Users/smarr/Documents/Data Sets/AirBNBAnalysis')"
   ]
  },
  {
   "cell_type": "code",
   "execution_count": null,
   "id": "b181720f-336e-4371-b289-8e484735aa43",
   "metadata": {},
   "outputs": [],
   "source": [
    "# Verifying Directory was switched\n",
    "os.getcwd()"
   ]
  },
  {
   "cell_type": "code",
   "execution_count": null,
   "id": "b89c45fa-4510-404d-ac47-bbdc9ebfe3b7",
   "metadata": {},
   "outputs": [],
   "source": [
    "import pandas as pd"
   ]
  },
  {
   "cell_type": "code",
   "execution_count": null,
   "id": "61452ebd-c8bb-4f12-81c4-49584cdca8e1",
   "metadata": {},
   "outputs": [],
   "source": [
    "## Importing listings data and cleaning the price column to ensure successful numerical analysis\n",
    "listings = pd.read_csv('../AirBNBAnalysis/data/listings_clean.csv')\n",
    "listings['price']= listings['price'].replace('[\\$,]', '', regex=True).astype(float)\n",
    "listings.to_csv('listings_clean.csv', index=False)"
   ]
  },
  {
   "cell_type": "code",
   "execution_count": null,
   "id": "da32e756-8cda-4f9c-b422-c259c741b4c0",
   "metadata": {},
   "outputs": [],
   "source": [
    "# Testing\n",
    "listings.head()"
   ]
  },
  {
   "cell_type": "code",
   "execution_count": null,
   "id": "970da9af-512f-4297-a0f7-29d11e2f7cff",
   "metadata": {},
   "outputs": [],
   "source": [
    "# Importing SQL python package to work with the SQL database, establishing connection between python and SQL\n",
    "from sqlalchemy import create_engine\n",
    "engine = create_engine('postgresql://smarr@localhost:5432/airbnb_analysis', echo=False)\n",
    "conn = engine.connect()"
   ]
  },
  {
   "cell_type": "code",
   "execution_count": null,
   "id": "45491908-b06a-48f1-8133-07ae1dc00cb9",
   "metadata": {},
   "outputs": [],
   "source": [
    "#Submitting our listings dataframe to SQL\n",
    "listings.to_sql('listings', engine, if_exists='replace', index=False)"
   ]
  },
  {
   "cell_type": "code",
   "execution_count": null,
   "id": "0c18c051-0244-454c-b0cc-e0a3a5f67fb2",
   "metadata": {},
   "outputs": [],
   "source": [
    "## We are going to partition the ensuing calendar dataset since it is extremely large and jupyter cannot feasibly process it all\n",
    "\n",
    "chunksize = 500000\n",
    "sample_size = 50000\n",
    "samples = []\n",
    "\n",
    "for chunk in pd.read_csv('../AirBNBAnalysis/data/calendar.csv', chunksize=chunksize):\n",
    "    # Random sample 2% from each chunk (adjust if needed)\n",
    "    sample = chunk.sample(frac=0.02, random_state=42)\n",
    "    samples.append(sample)\n",
    "    \n",
    "    # Stop once we hit the target\n",
    "    if sum(len(s) for s in samples) >= sample_size:\n",
    "        break\n",
    "\n",
    "df_sampled = pd.concat(samples).head(sample_size)"
   ]
  },
  {
   "cell_type": "code",
   "execution_count": null,
   "id": "0d454304-dba4-443f-9673-3c19ebeab5cb",
   "metadata": {},
   "outputs": [],
   "source": [
    "## Saving it to a smaller csv\n",
    "df_sampled.to_csv('../AirBNBAnalysis/data/calendar_sampled.csv', index=False)"
   ]
  },
  {
   "cell_type": "code",
   "execution_count": null,
   "id": "8eb02072-0bd6-4219-9707-e3ac34964648",
   "metadata": {},
   "outputs": [],
   "source": [
    "df_sampled['price'] = df_sampled['price'].replace(r'[\\$,]', '', regex=True).astype(float)"
   ]
  },
  {
   "cell_type": "code",
   "execution_count": null,
   "id": "4789402e-20d0-4b45-912a-8a10964c581e",
   "metadata": {},
   "outputs": [],
   "source": [
    "df_sampled.to_sql('calendar', engine, if_exists='replace', index=False)"
   ]
  },
  {
   "cell_type": "code",
   "execution_count": null,
   "id": "49bd86ab-acfe-43a6-a010-e0db2b7b241b",
   "metadata": {},
   "outputs": [],
   "source": [
    "# Testing data frame for adjusted price column\n",
    "df_sampled.head()"
   ]
  },
  {
   "cell_type": "code",
   "execution_count": null,
   "id": "03f778b9-7a33-42e1-8def-c447696b97d3",
   "metadata": {},
   "outputs": [],
   "source": [
    "## call engine.dispose() or ensure .close() is used on connections to prevent table lock in postgresql"
   ]
  },
  {
   "cell_type": "markdown",
   "id": "b1d3379c-036c-4ba3-8586-b132339978c4",
   "metadata": {},
   "source": [
    "### Pivot table for understanding price change over time across neighbourhoods"
   ]
  },
  {
   "cell_type": "code",
   "execution_count": null,
   "id": "d6cdc54e-5842-4203-ae53-c0cbbee1c44f",
   "metadata": {},
   "outputs": [],
   "source": [
    "df = pd.read_sql_query(\"\"\"\n",
    "    SELECT \n",
    "        TO_CHAR(c.date::DATE, 'YYYY-MM') AS month,\n",
    "        l.neighbourhood_cleansed,\n",
    "        ROUND(AVG(c.price)::numeric, 2) AS avg_price\n",
    "    FROM calendar c\n",
    "    JOIN listings l ON c.listing_id = l.id\n",
    "    WHERE c.available = 't'\n",
    "    GROUP BY TO_CHAR(c.date::DATE, 'YYYY-MM'), l.neighbourhood_cleansed\n",
    "\"\"\", conn)\n"
   ]
  },
  {
   "cell_type": "code",
   "execution_count": null,
   "id": "02d65503-6413-4709-84bd-591351d21d1a",
   "metadata": {
    "scrolled": true
   },
   "outputs": [],
   "source": [
    "pivot_df = df.pivot(index='neighbourhood_cleansed', columns='month', values='avg_price')\n",
    "pivot_df.head()"
   ]
  },
  {
   "cell_type": "code",
   "execution_count": null,
   "id": "f60a0078-531f-4366-9650-3bdcc98b1189",
   "metadata": {},
   "outputs": [],
   "source": [
    "pivot_df_cleaned = pivot_df.dropna()\n",
    "pivot_df_cleaned\n",
    "## Some color would look great on this"
   ]
  },
  {
   "cell_type": "code",
   "execution_count": null,
   "id": "bdc67857-72bf-446c-8b17-010f0373680a",
   "metadata": {},
   "outputs": [],
   "source": [
    "styled_df=pivot_df_cleaned.style.background_gradient(\n",
    "    cmap='RdYlGn_r',  # Red for high, green for low\n",
    "    axis=1            # Apply column-wise\n",
    ")\n",
    "styled_df"
   ]
  },
  {
   "cell_type": "markdown",
   "id": "4637c2c9-15cb-49ae-9cdb-6d02373f0b0b",
   "metadata": {},
   "source": [
    "### Adding reviews csv file for sentiment analysis (Python and PostgreSQL)"
   ]
  },
  {
   "cell_type": "code",
   "execution_count": null,
   "id": "079a97bf-70c8-4dee-a6d0-86383ad061e8",
   "metadata": {},
   "outputs": [],
   "source": [
    "dfReviews = pd.read_csv(\"../AirBNBAnalysis/data/reviews.csv\", low_memory=False)"
   ]
  },
  {
   "cell_type": "code",
   "execution_count": null,
   "id": "2dc3595d-76d8-4e31-83da-81ed9e0202ac",
   "metadata": {},
   "outputs": [],
   "source": [
    "dfReviews.to_sql('reviews', engine, if_exists='replace', index=False)"
   ]
  },
  {
   "cell_type": "code",
   "execution_count": null,
   "id": "9e23d92a-519e-4b04-84cc-0e74450c6142",
   "metadata": {},
   "outputs": [],
   "source": [
    "dfReviews.head()"
   ]
  },
  {
   "cell_type": "code",
   "execution_count": null,
   "id": "38f486ea-5d4b-46e1-b443-53899b2bdfd0",
   "metadata": {},
   "outputs": [],
   "source": [
    "## Drop Null values as they will make it more difficult to do sentiment analysis\n",
    "dfReviews=dfReviews.dropna(subset=['comments'])"
   ]
  },
  {
   "cell_type": "code",
   "execution_count": null,
   "id": "f8d27492-0b84-4863-8963-f16055ead8b4",
   "metadata": {},
   "outputs": [],
   "source": [
    "## Checking length of Dataframe for verification purposes\n",
    "len(dfReviews)"
   ]
  },
  {
   "cell_type": "code",
   "execution_count": null,
   "id": "5eac7144-2133-4aa2-8cf0-481184df2a87",
   "metadata": {},
   "outputs": [],
   "source": [
    "## Make all comments lower-case for standardizing purposes\n",
    "dfReviews['comments']=dfReviews['comments'].str.lower()"
   ]
  },
  {
   "cell_type": "markdown",
   "id": "8e73dbe0-6371-4412-896f-4c67d5a1784a",
   "metadata": {},
   "source": [
    "### Sentiment Scoring"
   ]
  },
  {
   "cell_type": "code",
   "execution_count": null,
   "id": "a0383631-2816-4c4b-9c5c-90f280765605",
   "metadata": {},
   "outputs": [],
   "source": [
    "from textblob import TextBlob"
   ]
  },
  {
   "cell_type": "code",
   "execution_count": null,
   "id": "c113160a-eeeb-4a30-baab-1fffb6641553",
   "metadata": {},
   "outputs": [],
   "source": [
    "## Define Function\n",
    "def get_sentiment(text):\n",
    "    return TextBlob(text).sentiment.polarity"
   ]
  },
  {
   "cell_type": "code",
   "execution_count": null,
   "id": "5f1fd97b-dc13-4d17-be65-a153bf6153e6",
   "metadata": {},
   "outputs": [],
   "source": [
    "## Apply it to Airbnb comments\n",
    "dfReviews['Sentiment']=dfReviews['comments'].apply(get_sentiment)"
   ]
  },
  {
   "cell_type": "code",
   "execution_count": null,
   "id": "f84fb048-5bb8-420d-b441-a34ae6adaaa5",
   "metadata": {},
   "outputs": [],
   "source": [
    "dfReviews[['listing_id','Sentiment']].head()\n",
    "## Doesn't quite get us our average sentiment by listing"
   ]
  },
  {
   "cell_type": "markdown",
   "id": "b33ff378-edc1-44e5-a661-1460cf943a91",
   "metadata": {},
   "source": [
    "### Average sentiment and count by listing ID"
   ]
  },
  {
   "cell_type": "code",
   "execution_count": null,
   "id": "fc27feda-ee3d-472a-bbb6-c2367b3f6cd4",
   "metadata": {},
   "outputs": [],
   "source": [
    "sentimentAvgandCount_by_listing=dfReviews.groupby('listing_id').agg(avg_sentiment=('Sentiment','mean'),sentiment_count=('Sentiment','count')).reset_index()\n",
    "sentimentAvgandCount_by_listing"
   ]
  },
  {
   "cell_type": "code",
   "execution_count": null,
   "id": "2bf810b8-f30d-4d82-8596-7a980f173936",
   "metadata": {},
   "outputs": [],
   "source": [
    "## Merge with Listings data\n",
    "CombinedDF=listings.merge(sentimentAvgandCount_by_listing,left_on='id',right_on='listing_id')"
   ]
  },
  {
   "cell_type": "code",
   "execution_count": null,
   "id": "5b8b591e-5940-4900-9087-0b30ac2f6f34",
   "metadata": {},
   "outputs": [],
   "source": [
    "CombinedDF"
   ]
  },
  {
   "cell_type": "code",
   "execution_count": null,
   "id": "16e911ce-887f-4a39-9099-2bec2cc6b4df",
   "metadata": {},
   "outputs": [],
   "source": [
    "sentimentAvgandCount_by_listing.sort_values(by='avg_sentiment', ascending=False).head(10)\n",
    "## Want to get listings that have a sentiment count greater than 10, to get a substantive analysis"
   ]
  },
  {
   "cell_type": "code",
   "execution_count": null,
   "id": "a8402a22-ffc4-46b2-94be-6543151a9d8e",
   "metadata": {},
   "outputs": [],
   "source": [
    "sentimentAvgandCount_by_listing = sentimentAvgandCount_by_listing[sentimentAvgandCount_by_listing['sentiment_count']>10]"
   ]
  },
  {
   "cell_type": "code",
   "execution_count": null,
   "id": "4c6efc81-922c-4c4e-9dc5-8ccc73a4fb4d",
   "metadata": {},
   "outputs": [],
   "source": [
    "sentimentAvgandCount_by_listing.sort_values(by='avg_sentiment', ascending=False).head(10)\n",
    "## Listing ID is pretty abstract. I want to see the URl and the neighbourhood that each listing is in."
   ]
  },
  {
   "cell_type": "code",
   "execution_count": null,
   "id": "7952f661-cc0d-4186-91cb-954dad63152f",
   "metadata": {},
   "outputs": [],
   "source": [
    "sentimentAvgandCount_by_listingNew=sentimentAvgandCount_by_listing.merge(listings[['neighbourhood_cleansed', 'listing_url','id']], left_on = 'listing_id', right_on='id')"
   ]
  },
  {
   "cell_type": "code",
   "execution_count": null,
   "id": "1acf1bf1-a6d8-416b-be7e-b09aa548bab9",
   "metadata": {},
   "outputs": [],
   "source": [
    "## Now lets run the group by and get a better idea of the area and general quality of the listing\n",
    "sentimentAvgandCount_by_listingNew.sort_values(by='avg_sentiment', ascending=False).head(10).drop(columns=['id'], errors='ignore')"
   ]
  },
  {
   "cell_type": "code",
   "execution_count": null,
   "id": "a28cf662-a782-4b1f-a4c9-832a2463939e",
   "metadata": {},
   "outputs": [],
   "source": [
    "## Taking a look at the above listing url's will quickly demonstrate why they each score farily high on the average sentimeent column."
   ]
  },
  {
   "cell_type": "markdown",
   "id": "4cd1d7e0-ba71-4207-a8b4-d40c8822b17f",
   "metadata": {},
   "source": [
    "### Average sentiment and count by neighbourhood (Additional Merge is needed)"
   ]
  },
  {
   "cell_type": "code",
   "execution_count": null,
   "id": "3440b5c4-7b2d-4ac0-a493-6d4b48cfab66",
   "metadata": {},
   "outputs": [],
   "source": [
    "CombinedDF_NeighbourhoodGroupby=dfReviews.merge(listings[['id','neighbourhood_cleansed']], left_on = 'listing_id', right_on='id')"
   ]
  },
  {
   "cell_type": "code",
   "execution_count": null,
   "id": "6c7bbbcd-72a1-4dac-90f4-0cc3b9c3728c",
   "metadata": {},
   "outputs": [],
   "source": [
    "CombinedDF_NeighbourhoodGroupby"
   ]
  },
  {
   "cell_type": "code",
   "execution_count": null,
   "id": "8916c499-c9a0-4805-93b2-9efa7c3a1ed4",
   "metadata": {},
   "outputs": [],
   "source": [
    "## Drop id_x and y values\n",
    "CombinedDF_NeighbourhoodGroupby = CombinedDF_NeighbourhoodGroupby.drop(columns=['id_x', 'id_y'], errors='ignore')"
   ]
  },
  {
   "cell_type": "code",
   "execution_count": null,
   "id": "82a3ce39-215e-4a6e-ae21-08dedc8d88bf",
   "metadata": {},
   "outputs": [],
   "source": [
    "CombinedDF_NeighbourhoodGroupby"
   ]
  },
  {
   "cell_type": "code",
   "execution_count": null,
   "id": "d1690921-7d04-4358-b33b-6370ccc29965",
   "metadata": {},
   "outputs": [],
   "source": [
    "sentimentAvgandCount_by_neighbourhood=CombinedDF_NeighbourhoodGroupby.groupby('neighbourhood_cleansed').agg(avg_sentiment=('Sentiment','mean'),sentiment_count=('Sentiment','count')).reset_index()"
   ]
  },
  {
   "cell_type": "code",
   "execution_count": null,
   "id": "4c8e4c4d-a1f4-49fd-bb1c-9bbdafc660a5",
   "metadata": {},
   "outputs": [],
   "source": [
    "sentimentAvgandCount_by_neighbourhood.sort_values(by='avg_sentiment', ascending=False).head(10)"
   ]
  },
  {
   "cell_type": "code",
   "execution_count": null,
   "id": "580d6447-66ae-4e8e-88a1-d8602a7b27e3",
   "metadata": {},
   "outputs": [],
   "source": [
    "# For a more reliable analysis, lets include only the neighbourhood scontaining more than 50 sentiment_count entries\n",
    "sentimentAvgandCount_by_neighbourhood = sentimentAvgandCount_by_neighbourhood[sentimentAvgandCount_by_neighbourhood['sentiment_count']>50]"
   ]
  },
  {
   "cell_type": "code",
   "execution_count": null,
   "id": "3506c9bc-a2a6-4075-9908-fc267f9ed70d",
   "metadata": {},
   "outputs": [],
   "source": [
    "sentimentAvgandCount_by_neighbourhood.sort_values(by='avg_sentiment', ascending=False).head(10)\n",
    "## Not surprisignly, we see neighbourhoods like Vinegar Hill, Financial District, and Rockaway beach score relatively highly. \n",
    "## I'm sure Tottenville is a great place too - I've yet to see Staten Island"
   ]
  }
 ],
 "metadata": {
  "kernelspec": {
   "display_name": "Python 3 (ipykernel)",
   "language": "python",
   "name": "python3"
  },
  "language_info": {
   "codemirror_mode": {
    "name": "ipython",
    "version": 3
   },
   "file_extension": ".py",
   "mimetype": "text/x-python",
   "name": "python",
   "nbconvert_exporter": "python",
   "pygments_lexer": "ipython3",
   "version": "3.13.2"
  }
 },
 "nbformat": 4,
 "nbformat_minor": 5
}
